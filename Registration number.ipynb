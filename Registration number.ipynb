{
 "cells": [
  {
   "cell_type": "code",
   "execution_count": null,
   "id": "2051459e",
   "metadata": {},
   "outputs": [],
   "source": [
    "str1=input('Enter Registration No.: ')\n",
    "A=str1[0:2:1]\n",
    "B=str1[2:4]\n",
    "C=str1[4:6]\n",
    "D=str1[6::1]\n",
    "if A.isalpha() and C.isalpha():\n",
    "    print('State code & Series is Valid')\n",
    "else:\n",
    "    print('Invalid Input Please check State code & Series')\n",
    "if B.isnumeric() and D.isnumeric():\n",
    "    print('City code & Number is Valid')\n",
    "else:\n",
    "    print('Invalid Input Please check City code & Number') "
   ]
  },
  {
   "cell_type": "code",
   "execution_count": null,
   "id": "8765b651",
   "metadata": {},
   "outputs": [],
   "source": []
  }
 ],
 "metadata": {
  "kernelspec": {
   "display_name": "Python 3 (ipykernel)",
   "language": "python",
   "name": "python3"
  },
  "language_info": {
   "codemirror_mode": {
    "name": "ipython",
    "version": 3
   },
   "file_extension": ".py",
   "mimetype": "text/x-python",
   "name": "python",
   "nbconvert_exporter": "python",
   "pygments_lexer": "ipython3",
   "version": "3.9.7"
  }
 },
 "nbformat": 4,
 "nbformat_minor": 5
}
